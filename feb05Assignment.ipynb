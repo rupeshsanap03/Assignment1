{
 "cells": [
  {
   "cell_type": "code",
   "execution_count": 2,
   "id": "3e21fb9a-7cc2-4446-9063-f790f1cfc672",
   "metadata": {},
   "outputs": [
    {
     "data": {
      "text/plain": [
       "'In Object-Oriented Programming (OOP), a class is a blueprint for creating \\nobjects (a particular data structure), providing initial values for state \\n(member variables or attributes), and implementations of behavior \\n(member functions or methods).\\n\\nAn object is an instance of a class. It has its own state, based on the class \\nblueprint, and can execute the behavior defined by the class methods.\\n\\nFor example, consider a class \"Person\" with attributes name, age, and address, \\nand methods such as \"introduce()\" and \"greet()\". We can create multiple \\nobjects from this class, each with its own unique state, such as \"John\" with \\nage 25 and address \"123 Main St\" or \"Jane\" with age 32 and address \"456 Park \\nAve'"
      ]
     },
     "execution_count": 2,
     "metadata": {},
     "output_type": "execute_result"
    }
   ],
   "source": [
    "\"\"\"Q1: In Object-Oriented Programming (OOP), a class is a blueprint for creating \n",
    "objects (a particular data structure), providing initial values for state \n",
    "(member variables or attributes), and implementations of behavior \n",
    "(member functions or methods).\n",
    "\n",
    "An object is an instance of a class. It has its own state, based on the class \n",
    "blueprint, and can execute the behavior defined by the class methods.\n",
    "\n",
    "For example, consider a class \"Person\" with attributes name, age, and address, \n",
    "and methods such as \"introduce()\" and \"greet()\". We can create multiple \n",
    "objects from this class, each with its own unique state, such as \"John\" with \n",
    "age 25 and address \"123 Main St\" or \"Jane\" with age 32 and address \"456 Park \n",
    "Ave\"\"\""
   ]
  },
  {
   "cell_type": "code",
   "execution_count": 3,
   "id": "8028926d-0a48-4b4b-9533-2baaf8c34714",
   "metadata": {},
   "outputs": [],
   "source": [
    "#Q2 four pillers of opps are \n",
    "#Answer:- \n",
    "# Abstraction\n",
    "# Encapsulation\n",
    "# Inheritance\n",
    "# polymorphism"
   ]
  },
  {
   "cell_type": "code",
   "execution_count": 4,
   "id": "dda635ed-64f9-4290-a8a3-304d5bc7c176",
   "metadata": {},
   "outputs": [],
   "source": [
    "# __init__() use and example\n",
    "\"\"\"\n",
    "The __init__() function in Python is a special method that is automatically \n",
    "called when an object of a class is created. It is also known as the \n",
    "constructor and is used to initialize the attributes of the class.\n",
    "\n",
    "\"\"\"\n",
    "#Example\n",
    "class Person:\n",
    "    def __init__(self, name, age, address):\n",
    "        self.name = name\n",
    "        self.age = age\n",
    "        self.address = address\n"
   ]
  },
  {
   "cell_type": "code",
   "execution_count": 6,
   "id": "3cd9c2f3-8daf-4b39-8a1a-a55392ab9b9d",
   "metadata": {},
   "outputs": [],
   "source": [
    "p = Person(\"Rupesh\", 23, \"123 Main St.\")"
   ]
  },
  {
   "cell_type": "code",
   "execution_count": 7,
   "id": "5ff7b269-e151-4ba3-a459-3e3246fdc71c",
   "metadata": {},
   "outputs": [
    {
     "data": {
      "text/plain": [
       "('Rupesh', 23, '123 Main St.')"
      ]
     },
     "execution_count": 7,
     "metadata": {},
     "output_type": "execute_result"
    }
   ],
   "source": [
    "p.name,p.age,p.address"
   ]
  },
  {
   "cell_type": "code",
   "execution_count": 8,
   "id": "4532a508-e0f0-4459-a448-0085a634f17c",
   "metadata": {},
   "outputs": [
    {
     "data": {
      "text/plain": [
       "'\\nIn Object-Oriented Programming (OOP), the self keyword is used to refer \\nto the instance of the class being operated on. It is used to access the \\nattributes and methods of the class within the class definition.\\n\\n'"
      ]
     },
     "execution_count": 8,
     "metadata": {},
     "output_type": "execute_result"
    }
   ],
   "source": [
    "#Q4 Why self is used in opps\n",
    "\"\"\"\n",
    "In Object-Oriented Programming (OOP), the self keyword is used to refer \n",
    "to the instance of the class being operated on. It is used to access the \n",
    "attributes and methods of the class within the class definition.\n",
    "\n",
    "\"\"\""
   ]
  },
  {
   "cell_type": "code",
   "execution_count": null,
   "id": "3c172cdc-cf86-4ec6-b2e8-34afd59e6f3f",
   "metadata": {},
   "outputs": [],
   "source": [
    "#Q5 Inheritance ?Guve example of its each type..\n",
    "\"\"\"\n",
    "Inheritance is a mechanism in Object-Oriented Programming (OOP) where a \n",
    "new class can be created by inheriting properties and methods from an \n",
    "existing class. The new class is called the derived class or subclass, and\n",
    "the existing class is called the base class or superclass\n",
    "\n",
    "\"\"\"\n",
    "#1 Single Inheritance\n",
    "#2 Multilevel Inheritance\n",
    "#3 Multiple Inheritance"
   ]
  }
 ],
 "metadata": {
  "kernelspec": {
   "display_name": "Python 3 (ipykernel)",
   "language": "python",
   "name": "python3"
  },
  "language_info": {
   "codemirror_mode": {
    "name": "ipython",
    "version": 3
   },
   "file_extension": ".py",
   "mimetype": "text/x-python",
   "name": "python",
   "nbconvert_exporter": "python",
   "pygments_lexer": "ipython3",
   "version": "3.10.8"
  }
 },
 "nbformat": 4,
 "nbformat_minor": 5
}
