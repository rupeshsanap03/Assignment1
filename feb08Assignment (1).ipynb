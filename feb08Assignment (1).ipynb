{
 "cells": [
  {
   "cell_type": "code",
   "execution_count": 2,
   "id": "1dcb6aa7-bcfe-4cfa-9409-8ced02f5b7e3",
   "metadata": {},
   "outputs": [
    {
     "data": {
      "text/plain": [
       "'\\nAbstraction in object-oriented programming (OOP) refers to the act of \\nrepresenting essential features of an object without including the background \\ndetails or context. In other words, it involves hiding the implementation\\ndetails and exposing only the necessary information to the users.\\n\\nAn example of abstraction in OOP is a car. A car is an object that has certain \\nproperties such as make, model, color, and number of wheels. The user of the\\ncar object only needs to know these properties and the methods available to \\ninteract with the object, such as start the engine, drive, and stop. The \\ninternal workings of the car, such as the engine, transmission, and \\nelectrical system, are abstracted away and hidden from the user.\\n'"
      ]
     },
     "execution_count": 2,
     "metadata": {},
     "output_type": "execute_result"
    }
   ],
   "source": [
    "#Q1 What is abstraction in opps\n",
    "\"\"\"\n",
    "Abstraction in object-oriented programming (OOP) refers to the act of \n",
    "representing essential features of an object without including the background \n",
    "details or context. In other words, it involves hiding the implementation\n",
    "details and exposing only the necessary information to the users.\n",
    "\n",
    "An example of abstraction in OOP is a car. A car is an object that has certain \n",
    "properties such as make, model, color, and number of wheels. The user of the\n",
    "car object only needs to know these properties and the methods available to \n",
    "interact with the object, such as start the engine, drive, and stop. The \n",
    "internal workings of the car, such as the engine, transmission, and \n",
    "electrical system, are abstracted away and hidden from the user.\n",
    "\"\"\""
   ]
  },
  {
   "cell_type": "code",
   "execution_count": 10,
   "id": "d43e3800-fd68-46e6-91e5-9d622e508f86",
   "metadata": {},
   "outputs": [],
   "source": [
    "#Q2 What is differance between Abstraction and Encapsulation \n",
    "\"\"\"\n",
    "Abstraction refers to the act of representing essential features of an \n",
    "object without including the background details or context. It involves\n",
    "hiding the implementation details and exposing only the necessary information\n",
    "to the users. For example, a car object has certain properties such as make, \n",
    "model, color, and number of wheels. The user of the car object only needs to\n",
    "know these properties and the methods available to interact with the object, \n",
    "such as start the engine, drive, and stop. The internal workings of the car, \n",
    "such as the engine, transmission, and electrical system, are abstracted away \n",
    "and hidden from the user.\n",
    "\n",
    "Encapsulation, on the other hand, refers to the wrapping up of data and \n",
    "functions into a single unit (object), which can be treated as a single \n",
    "entity. It provides a way to hide the internal details of an object from \n",
    "other objects, ensuring that they can only access the object's properties \n",
    "and methods through the object's public interface. For example, consider a \n",
    "class that represents a bank account. The class encapsulates the account \n",
    "number, account holder's name, and balance as private data members and\n",
    "provides public methods such as deposit and withdraw to interact with the \n",
    "account. This way, other objects cannot access or modify the account's data \n",
    "members directly, ensuring data integrity and security.\n",
    "\"\"\"\n",
    "class BankAccount:\n",
    "    def __init__(self, acc_num, acc_holder, balance):\n",
    "        self.__acc_num = acc_num\n",
    "        self.__acc_holder = acc_holder\n",
    "        self.__balance = balance\n",
    "        \n",
    "    def deposit(self, amount):\n",
    "        self.__balance += amount\n",
    "        \n",
    "    def withdraw(self, amount):\n",
    "        if self.__balance >= amount:\n",
    "            self.__balance -= amount\n",
    "        else:\n",
    "            print(\"Insufficient balance\")\n",
    "            \n",
    "    def get_balance(self):\n",
    "        return self.__balance"
   ]
  },
  {
   "cell_type": "code",
   "execution_count": 11,
   "id": "e9c904c5-3b91-4888-a187-67f8bb20c4fe",
   "metadata": {},
   "outputs": [
    {
     "data": {
      "text/plain": [
       "10000"
      ]
     },
     "execution_count": 11,
     "metadata": {},
     "output_type": "execute_result"
    }
   ],
   "source": [
    "bank = BankAccount(123,\"Rupesh\",5000)\n",
    "bank.deposit(5000)\n",
    "bank.get_balance()"
   ]
  },
  {
   "cell_type": "code",
   "execution_count": 12,
   "id": "f5ee0416-c219-44c6-a524-1ade049816b7",
   "metadata": {},
   "outputs": [
    {
     "data": {
      "text/plain": [
       "'\\nThe abc module (short for \"Abstract Base Classes\") in Python is a module that\\nprovides a way to define abstract base classes. An abstract base class is a \\nclass that cannot be instantiated, but it can be subclassed.\\n\\nThe main purpose of using abstract base classes is to provide a common \\ninterface for a set of related classes. An abstract base class defines a \\ncommon interface that the concrete subclasses must implement. This allows you\\nto write code that works with objects of the abstract base class without \\nhaving to know the concrete implementation of the objects.\\n'"
      ]
     },
     "execution_count": 12,
     "metadata": {},
     "output_type": "execute_result"
    }
   ],
   "source": [
    "#Q3  What is abc module in python? Why is it used?\n",
    "\"\"\"\n",
    "The abc module (short for \"Abstract Base Classes\") in Python is a module that\n",
    "provides a way to define abstract base classes. An abstract base class is a \n",
    "class that cannot be instantiated, but it can be subclassed.\n",
    "\n",
    "The main purpose of using abstract base classes is to provide a common \n",
    "interface for a set of related classes. An abstract base class defines a \n",
    "common interface that the concrete subclasses must implement. This allows you\n",
    "to write code that works with objects of the abstract base class without \n",
    "having to know the concrete implementation of the objects.\n",
    "\"\"\""
   ]
  },
  {
   "cell_type": "code",
   "execution_count": 13,
   "id": "a5b608b8-7a52-4b97-9295-bbc9e490560d",
   "metadata": {},
   "outputs": [
    {
     "data": {
      "text/plain": [
       "'\\nThere are several methods to achive data abstraction\\n1. Encapsulation\\n2.Interfaces and Abstract Classes\\n3.Information Handeling \\n4.modules\\n'"
      ]
     },
     "execution_count": 13,
     "metadata": {},
     "output_type": "execute_result"
    }
   ],
   "source": [
    "#Q4 How can we achieve data abstraction?\n",
    "\"\"\"\n",
    "There are several methods to achive data abstraction\n",
    "1. Encapsulation\n",
    "2.Interfaces and Abstract Classes\n",
    "3.Information Handeling \n",
    "4.modules\n",
    "\"\"\""
   ]
  },
  {
   "cell_type": "code",
   "execution_count": 14,
   "id": "0ad5dcf0-f727-494d-bcce-6b5437804004",
   "metadata": {},
   "outputs": [
    {
     "data": {
      "text/plain": [
       "'\\nNo, we cannot create an instance of an abstract class. \\nAn abstract class is a class that defines an abstract interface, \\nbut it cannot be instantiated on its own.\\n\\nAbstract classes are meant to be subclassed, and the concrete subclasses\\nmust provide implementations for all the abstract methods defined in the \\nabstract class. Only the concrete subclasses can be instantiated, not the \\nabstract class itself.\\n'"
      ]
     },
     "execution_count": 14,
     "metadata": {},
     "output_type": "execute_result"
    }
   ],
   "source": [
    "#Q5  Can we create an instance of an abstract class? Explain your answer.\n",
    "\n",
    "\"\"\"\n",
    "No, we cannot create an instance of an abstract class. \n",
    "An abstract class is a class that defines an abstract interface, \n",
    "but it cannot be instantiated on its own.\n",
    "\n",
    "Abstract classes are meant to be subclassed, and the concrete subclasses\n",
    "must provide implementations for all the abstract methods defined in the \n",
    "abstract class. Only the concrete subclasses can be instantiated, not the \n",
    "abstract class itself.\n",
    "\"\"\""
   ]
  }
 ],
 "metadata": {
  "kernelspec": {
   "display_name": "Python 3 (ipykernel)",
   "language": "python",
   "name": "python3"
  },
  "language_info": {
   "codemirror_mode": {
    "name": "ipython",
    "version": 3
   },
   "file_extension": ".py",
   "mimetype": "text/x-python",
   "name": "python",
   "nbconvert_exporter": "python",
   "pygments_lexer": "ipython3",
   "version": "3.10.8"
  }
 },
 "nbformat": 4,
 "nbformat_minor": 5
}
