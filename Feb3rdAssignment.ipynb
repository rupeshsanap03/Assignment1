{
 "cells": [
  {
   "cell_type": "code",
   "execution_count": 2,
   "id": "33e1abd8-9cde-4d1e-a0d9-e49a0eae40f4",
   "metadata": {},
   "outputs": [
    {
     "data": {
      "text/plain": [
       "[1, 3, 5, 7, 9, 11, 13, 15, 17, 19, 21, 23, 25]"
      ]
     },
     "execution_count": 2,
     "metadata": {},
     "output_type": "execute_result"
    }
   ],
   "source": [
    "#Q1 Create list of odd numbers in range 1 to 25\n",
    "\n",
    "#We use def keyword to create function\n",
    "def oddNumbers(a,b):\n",
    "    l1 = []\n",
    "    for i in range(a,b+1):\n",
    "        if i%2 != 0:\n",
    "            l1.append(i)\n",
    "    return l1\n",
    "oddNumbers(0,25)"
   ]
  },
  {
   "cell_type": "code",
   "execution_count": 5,
   "id": "bb6ea0a9-9cff-4a36-9157-5d85e29e0c12",
   "metadata": {},
   "outputs": [
    {
     "data": {
      "text/plain": [
       "12"
      ]
     },
     "execution_count": 5,
     "metadata": {},
     "output_type": "execute_result"
    }
   ],
   "source": [
    "#Q2 use of *args and **kwargs\n",
    "\n",
    "\"\"\"args passes variable number of non-keyworded arguments and on which \n",
    "   operation of the tuple can be performed. **kwargs passes variable number\n",
    "   of keyword arguments dictionary to function on which operation of a \n",
    "   dictionary can be performed. *args and **kwargs make the function \n",
    "   flexible.\n",
    "\"\"\"\n",
    "\n",
    "#*args\n",
    "def adder(*num):\n",
    "    sum = 0\n",
    "    \n",
    "    for n in num:\n",
    "        sum = sum + n\n",
    "    return sum\n",
    "adder(3,4,5)"
   ]
  },
  {
   "cell_type": "code",
   "execution_count": 13,
   "id": "a93ada4f-db21-453a-bdb9-df5a5025f339",
   "metadata": {},
   "outputs": [
    {
     "name": "stdout",
     "output_type": "stream",
     "text": [
      "first Geeks\n",
      "mid for\n",
      "last Geeks\n"
     ]
    }
   ],
   "source": [
    "#**kwargs\n",
    "def myFun(**kwargs):\n",
    "    for key, value in kwargs.items():\n",
    "        print(key, value)\n",
    "myFun(first='Geeks', mid='for', last='Geeks')"
   ]
  },
  {
   "cell_type": "code",
   "execution_count": 14,
   "id": "2aeb63d7-d01c-489e-8676-3230cd63ec68",
   "metadata": {},
   "outputs": [
    {
     "name": "stdout",
     "output_type": "stream",
     "text": [
      "2\n",
      "4\n",
      "6\n",
      "8\n",
      "10\n"
     ]
    }
   ],
   "source": [
    "#Q3\n",
    "#Answer: An iterator is an object in Python that can be iterated (looped) upon. \n",
    "#        The method used to initialize an iterator object is iter(), and the\n",
    "#        method used for iteration is next().\n",
    "numbers = [2, 4, 6, 8, 10, 12, 14, 16, 18, 20]\n",
    "numbers_iterator = iter(numbers)\n",
    "\n",
    "for i in range(5):\n",
    "    print(next(numbers_iterator))"
   ]
  },
  {
   "cell_type": "code",
   "execution_count": 16,
   "id": "a6c60fb2-db91-4968-8823-a38154299cb2",
   "metadata": {},
   "outputs": [
    {
     "name": "stdout",
     "output_type": "stream",
     "text": [
      "0\n",
      "1\n",
      "4\n",
      "9\n",
      "16\n"
     ]
    }
   ],
   "source": [
    "\"\"\"Q4\n",
    "Asnwer: A generator function is a special type of function in Python\n",
    "        that returns a generator iterator. Instead of using the return statement, \n",
    "        a generator function uses the yield keyword to return a value and suspend \n",
    "        the execution of the function, allowing the function to resume from where it \n",
    "        left off when called again\"\"\"\n",
    "def squares_generator(n):\n",
    "    for i in range(n):\n",
    "        yield i**2\n",
    "\n",
    "squares = squares_generator(5)\n",
    "for square in squares:\n",
    "    print(square)"
   ]
  },
  {
   "cell_type": "code",
   "execution_count": 17,
   "id": "0cfa12f9-352c-46cb-b092-bbf3f9d973e8",
   "metadata": {},
   "outputs": [
    {
     "name": "stdout",
     "output_type": "stream",
     "text": [
      "2\n",
      "3\n",
      "5\n",
      "7\n",
      "11\n",
      "13\n",
      "17\n",
      "19\n",
      "23\n",
      "29\n",
      "31\n",
      "37\n",
      "41\n",
      "43\n",
      "47\n",
      "53\n",
      "59\n",
      "61\n",
      "67\n",
      "71\n"
     ]
    }
   ],
   "source": [
    "\"\"\"\n",
    "Q5 Answer:\n",
    "\"\"\"\n",
    "def prime_numbers_generator():\n",
    "    yield 2\n",
    "    primes = [2]\n",
    "    for i in range(3, 1000):\n",
    "        is_prime = True\n",
    "        for prime in primes:\n",
    "            if i % prime == 0:\n",
    "                is_prime = False\n",
    "                break\n",
    "        if is_prime:\n",
    "            primes.append(i)\n",
    "            yield i\n",
    "\n",
    "prime_numbers = prime_numbers_generator()\n",
    "for i in range(20):\n",
    "    print(next(prime_numbers))"
   ]
  },
  {
   "cell_type": "code",
   "execution_count": 21,
   "id": "bc8efac8-cadb-4682-b901-1ea4dc2deb01",
   "metadata": {},
   "outputs": [
    {
     "name": "stdout",
     "output_type": "stream",
     "text": [
      "0\n",
      "1\n",
      "1\n",
      "2\n",
      "3\n",
      "5\n",
      "8\n",
      "13\n",
      "21\n",
      "34\n"
     ]
    }
   ],
   "source": [
    "#Q6 first 10 fibonacci numbers\n",
    "a,b =0,1\n",
    "i = 0\n",
    "while i < 10:\n",
    "    print(a)\n",
    "    c = a+b\n",
    "    a = b \n",
    "    b = c\n",
    "    i = i+1\n",
    "    "
   ]
  },
  {
   "cell_type": "code",
   "execution_count": 22,
   "id": "d2c23a68-a38e-4867-989b-5da68dbd0f3c",
   "metadata": {},
   "outputs": [
    {
     "name": "stdout",
     "output_type": "stream",
     "text": [
      "['p', 'w', 's', 'k', 'i', 'l', 'l', 's']\n"
     ]
    }
   ],
   "source": [
    "#Q7\n",
    "string = \"pwskills\"\n",
    "s = [i for i in string]\n",
    "print(s)\n"
   ]
  },
  {
   "cell_type": "code",
   "execution_count": 23,
   "id": "934982d7-8e0d-4c2a-a1ce-382bcb5b2269",
   "metadata": {},
   "outputs": [],
   "source": [
    "#Q8"
   ]
  },
  {
   "cell_type": "code",
   "execution_count": 28,
   "id": "3ebc918f-de27-406f-9b8a-a231ba030c99",
   "metadata": {},
   "outputs": [
    {
     "name": "stdout",
     "output_type": "stream",
     "text": [
      "[1, 3, 5, 7, 9, 11, 13, 15, 17, 19, 21, 23, 25, 27, 29, 31, 33, 35, 37, 39, 41, 43, 45, 47, 49, 51, 53, 55, 57, 59, 61, 63, 65, 67, 69, 71, 73, 75, 77, 79, 81, 83, 85, 87, 89, 91, 93, 95, 97, 99]\n"
     ]
    }
   ],
   "source": [
    "#9 odd numbers 1 to 100 using list comprehension\n",
    "l = [i for i in range(1,101)]\n",
    "l1 = [i for i in l if i % 2 != 0]\n",
    "print(l1)"
   ]
  },
  {
   "cell_type": "code",
   "execution_count": 30,
   "id": "8cd5ea2f-a008-41f9-a79c-d3b2edbd4860",
   "metadata": {},
   "outputs": [
    {
     "name": "stdin",
     "output_type": "stream",
     "text": [
      "Enter a number:  121\n"
     ]
    },
    {
     "name": "stdout",
     "output_type": "stream",
     "text": [
      "121 is a palindrome number.\n"
     ]
    }
   ],
   "source": [
    "def is_palindrome(num):\n",
    "    original_num = num\n",
    "    reverse = 0\n",
    "    while num > 0:\n",
    "        digit = num % 10\n",
    "        reverse = (reverse * 10) + digit\n",
    "        num = num // 10\n",
    "    return original_num == reverse\n",
    "\n",
    "number = int(input(\"Enter a number: \"))\n",
    "if is_palindrome(number):\n",
    "    print(f\"{number} is a palindrome number.\")\n",
    "else:\n",
    "    print(f\"{number} is not a palindrome number.\")"
   ]
  }
 ],
 "metadata": {
  "kernelspec": {
   "display_name": "Python 3 (ipykernel)",
   "language": "python",
   "name": "python3"
  },
  "language_info": {
   "codemirror_mode": {
    "name": "ipython",
    "version": 3
   },
   "file_extension": ".py",
   "mimetype": "text/x-python",
   "name": "python",
   "nbconvert_exporter": "python",
   "pygments_lexer": "ipython3",
   "version": "3.10.8"
  }
 },
 "nbformat": 4,
 "nbformat_minor": 5
}
