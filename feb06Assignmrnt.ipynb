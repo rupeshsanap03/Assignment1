{
 "cells": [
  {
   "cell_type": "code",
   "execution_count": 1,
   "id": "7c117b28-aa08-43c1-8ec3-6238111b3769",
   "metadata": {},
   "outputs": [
    {
     "data": {
      "text/plain": [
       "'Q1. Create a function which will take a list as an argument and return the product of all the numbers \\nafter creating a flat list.\\n\\nUse the below-given list as an argument for your function.\\n\\n\\nlist1 = [1,2,3,4, [44,55,66, True], False, (34,56,78,89,34), {1,2,3,3,2,1}, {1:34, \"key2\": [55, 67, 78, 89], 4: (45, \\n22, 61, 34)}, [56, \\'data science\\'], \\'Machine Learning\\']'"
      ]
     },
     "execution_count": 1,
     "metadata": {},
     "output_type": "execute_result"
    }
   ],
   "source": [
    "\"\"\"Q1. Create a function which will take a list as an argument and return the product of all the numbers \n",
    "after creating a flat list.\n",
    "\n",
    "Use the below-given list as an argument for your function.\n",
    "\n",
    "\n",
    "list1 = [1,2,3,4, [44,55,66, True], False, (34,56,78,89,34), {1,2,3,3,2,1}, {1:34, \"key2\": [55, 67, 78, 89], 4: (45, \n",
    "22, 61, 34)}, [56, 'data science'], 'Machine Learning']\"\"\""
   ]
  },
  {
   "cell_type": "code",
   "execution_count": 29,
   "id": "1db279a5-669b-4813-8ff4-cac619b530e7",
   "metadata": {},
   "outputs": [
    {
     "data": {
      "text/plain": [
       "4134711838987085478833841242112000"
      ]
     },
     "execution_count": 29,
     "metadata": {},
     "output_type": "execute_result"
    }
   ],
   "source": [
    "from functools import reduce\n",
    "list1 = [1,2,3,4, [44,55,66, True], False, (34,56,78,89,34), {1,2,3,3,2,1}, {1:34, \"key2\": [55, 67, 78, 89], 4: (45, \n",
    "22, 61, 34)}, [56, 'data science'], 'Machine Learning']\n",
    "def flat_list(list1):\n",
    "    list2 = []\n",
    "    for i in list1:\n",
    "        if type(i) == int:\n",
    "            list2.append(i)\n",
    "        elif type(i) == list:\n",
    "            for j in i:\n",
    "                if type(j) == int:\n",
    "                    list2.append(j)\n",
    "        elif type(i) == tuple:\n",
    "            for j in i :\n",
    "                 if type(j) == int:\n",
    "                        list2.append(j)\n",
    "        elif type(i) == set:\n",
    "            for j in i :\n",
    "                 if type(j) == int:\n",
    "                        list2.append(j)\n",
    "        elif type(i) == dict:\n",
    "            keys = i.keys()\n",
    "            values = i.values()\n",
    "            for i in keys:\n",
    "                if type(i) == int:\n",
    "                    list2.append(i)\n",
    "            for i in values:\n",
    "                if type(i) == int:\n",
    "                    list2.append(i)\n",
    "                elif type(i) == list:\n",
    "                    for j in i:\n",
    "                        if type(j) == int:\n",
    "                            list2.append(j)\n",
    "                elif type(i) == tuple:\n",
    "                    for j in i :\n",
    "                        if type(j) == int:\n",
    "                            list2.append(j)\n",
    "    return list2\n",
    "flat_list = flat_list(list1)\n",
    "def product_All_numbers(flat_list):\n",
    "    product = reduce(lambda x,y:x*y,flat_list)\n",
    "    return product\n",
    "product_All_numbers(flat_list)"
   ]
  },
  {
   "cell_type": "code",
   "execution_count": 30,
   "id": "f2561ef6-a085-4f5c-958a-68d34424a136",
   "metadata": {},
   "outputs": [
    {
     "data": {
      "text/plain": [
       "'Q2. Write a python program for encrypting a message sent to you by your friend. The logic of encryption \\nshould be such that, for a the output should be z. For b, the output should be y. For c, the output should \\nbe x respectively. Also, the whitespace should be replaced with a dollar sign. Keep the punctuation \\nmarks unchanged.\\n\\n\\nInput Sentence: I want to become a Data Scientist.\\n\\n\\nEncrypt the above input sentence using the program you just created.\\n\\n\\nNote: Convert the given input sentence into lowercase before encrypting. The final output should be \\nlowercase.'"
      ]
     },
     "execution_count": 30,
     "metadata": {},
     "output_type": "execute_result"
    }
   ],
   "source": [
    "\"\"\"Q2. Write a python program for encrypting a message sent to you by your friend. The logic of encryption \n",
    "should be such that, for a the output should be z. For b, the output should be y. For c, the output should \n",
    "be x respectively. Also, the whitespace should be replaced with a dollar sign. Keep the punctuation \n",
    "marks unchanged.\n",
    "\n",
    "\n",
    "Input Sentence: I want to become a Data Scientist.\n",
    "\n",
    "\n",
    "Encrypt the above input sentence using the program you just created.\n",
    "\n",
    "\n",
    "Note: Convert the given input sentence into lowercase before encrypting. The final output should be \n",
    "lowercase.\"\"\""
   ]
  },
  {
   "cell_type": "code",
   "execution_count": 4,
   "id": "5c0da1d9-12f1-41fa-90e0-76dc9e052272",
   "metadata": {},
   "outputs": [
    {
     "data": {
      "text/plain": [
       "'r$dzmg$gl$yvxlnv$z$wzgz$hxrvmgrhg.'"
      ]
     },
     "execution_count": 4,
     "metadata": {},
     "output_type": "execute_result"
    }
   ],
   "source": [
    "sentence = \"I want to become a Data Scientist.\"\n",
    "def encrypt(sentence):\n",
    "    encryption_map = {'a': 'z', 'b': 'y', 'c': 'x', 'd': 'w', 'e': 'v', 'f': 'u', 'g': 't', 'h': 's', 'i': 'r', 'j': 'q',\n",
    "                      'k': 'p', 'l': 'o', 'm': 'n', 'n': 'm', 'o': 'l', 'p': 'k', 'q': 'j', 'r': 'i', 's': 'h', 't': 'g',\n",
    "                      'u': 'f', 'v': 'e', 'w': 'd', 'x': 'c', 'y': 'b', 'z': 'a', ' ': '$'}\n",
    "    sentence = sentence.lower()\n",
    "    r = \"\"\n",
    "    for i in sentence:\n",
    "        r +=  encryption_map.get(i, i)\n",
    "    return r\n",
    "encrypt(sentence)\n"
   ]
  },
  {
   "cell_type": "code",
   "execution_count": null,
   "id": "bd487a1e-8f29-4338-82c7-b3defd6bb6a1",
   "metadata": {},
   "outputs": [],
   "source": []
  }
 ],
 "metadata": {
  "kernelspec": {
   "display_name": "Python 3 (ipykernel)",
   "language": "python",
   "name": "python3"
  },
  "language_info": {
   "codemirror_mode": {
    "name": "ipython",
    "version": 3
   },
   "file_extension": ".py",
   "mimetype": "text/x-python",
   "name": "python",
   "nbconvert_exporter": "python",
   "pygments_lexer": "ipython3",
   "version": "3.10.8"
  }
 },
 "nbformat": 4,
 "nbformat_minor": 5
}
