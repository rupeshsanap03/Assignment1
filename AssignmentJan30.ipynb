{
 "cells": [
  {
   "cell_type": "code",
   "execution_count": 6,
   "id": "9063085a-cf65-4c35-8e5a-31151f02f20f",
   "metadata": {},
   "outputs": [
    {
     "name": "stdin",
     "output_type": "stream",
     "text": [
      "Marks of the student in %:  10\n"
     ]
    },
    {
     "name": "stdout",
     "output_type": "stream",
     "text": [
      "D\n"
     ]
    }
   ],
   "source": [
    "\"\"\"\n",
    "Q1 if > 90 Grade A if > 80 and <= 90 B \n",
    "if >= 60 and <= 80 Cand below 60 D \n",
    "\"\"\"\n",
    "a = int(input(\"Marks of the student in %: \")) \n",
    "if a > 90 :\n",
    "    print(\"A\")\n",
    "elif a > 80 and a <= 90:\n",
    "    print(\"B\")\n",
    "elif a >= 60 and a <= 80:\n",
    "    print(\"C\")\n",
    "else: \n",
    "    print(\"D\")"
   ]
  },
  {
   "cell_type": "code",
   "execution_count": 17,
   "id": "02a85096-fdd3-4418-8eda-c22ae9326b4b",
   "metadata": {},
   "outputs": [
    {
     "name": "stdin",
     "output_type": "stream",
     "text": [
      "Enter cost of Bike 20000\n"
     ]
    },
    {
     "name": "stdout",
     "output_type": "stream",
     "text": [
      "Tax % on cost of Bike  20000 is  5 \n",
      "Road tax to be paid is  1000.0\n"
     ]
    }
   ],
   "source": [
    "\"\"\"\n",
    "Q2 if cost price is > 100000 tax is 15%\n",
    "if cost price is >50000 and <= 100000 10%\n",
    "if cost price is <= 50000 5%\n",
    "\"\"\"\n",
    "c = int(input(\"Enter cost of Bike\"))\n",
    "if c>100000:\n",
    "    tax = 15 \n",
    "elif c > 50000 and c <= 100000:\n",
    "    tax = 10\n",
    "else:\n",
    "    tax = 5\n",
    "def totalTax(c,tax):\n",
    "    tax = c * (tax/100)\n",
    "    return tax\n",
    "print(\"Tax % on cost of Bike \",c,\"is \",tax,\"\\nRoad tax to be paid is \",totalTax(c,tax))"
   ]
  },
  {
   "cell_type": "code",
   "execution_count": 22,
   "id": "d28374db-7769-4739-86e8-081733d5f6f8",
   "metadata": {},
   "outputs": [
    {
     "name": "stdin",
     "output_type": "stream",
     "text": [
      "Name of the city:  DELHI\n"
     ]
    },
    {
     "name": "stdout",
     "output_type": "stream",
     "text": [
      "Famous Monument in the city is \n",
      "Red Fort\n"
     ]
    }
   ],
   "source": [
    "#Q3 We have to print monumnet name when city name is given , given cities are \n",
    "#Delhi,Agra,Jaipur\n",
    "m = str(input(\"Name of the city: \"))\n",
    "m = m.lower()\n",
    "print(\"Famous Monument in the city is \")\n",
    "if m == \"delhi\":\n",
    "    print(\"Red Fort\")\n",
    "elif m == \"agra\":\n",
    "    print(\"Taj Mahal\")\n",
    "elif m == \"jaipur\":\n",
    "    print(\"Jal Mahal\")\n",
    "else:\n",
    "    print(\"You have entered wrong city or you spelled it incorrectly\")"
   ]
  },
  {
   "cell_type": "code",
   "execution_count": 3,
   "id": "d4228f6e-f648-4396-af9e-933846961732",
   "metadata": {},
   "outputs": [
    {
     "name": "stdout",
     "output_type": "stream",
     "text": [
      "3\n"
     ]
    }
   ],
   "source": [
    "#Q4 check how may numbes are divide by 3 till number <= 10\n",
    "i=0\n",
    "count = 0\n",
    "while i<=10:\n",
    "    if i % 3 == 0  and i / 3:\n",
    "        count = count + 1\n",
    "        i = i + 1\n",
    "    else:\n",
    "        i = i + 1\n",
    "print(count)"
   ]
  },
  {
   "cell_type": "code",
   "execution_count": 4,
   "id": "ce0781a0-4a3b-4989-b759-8ae7a3bb19b1",
   "metadata": {},
   "outputs": [
    {
     "data": {
      "text/plain": [
       "'\\n**With the while loop we can execute a set of statements as long as a condition is true.\\n**The while loop requires relevant variables to be ready, in this example we need to define \\n  an indexing variable, i, which we set to 1.\\n**With the break statement we can stop the loop even if the while condition is true\\n'"
      ]
     },
     "execution_count": 4,
     "metadata": {},
     "output_type": "execute_result"
    }
   ],
   "source": [
    "#Q5 When and why to use while loop ?\n",
    "\"\"\"\n",
    "**With the while loop we can execute a set of statements as long as a condition is true.\n",
    "**The while loop requires relevant variables to be ready, in this example we need to define \n",
    "  an indexing variable, i, which we set to 1.\n",
    "**With the break statement we can stop the loop even if the while condition is true\n",
    "\"\"\""
   ]
  },
  {
   "cell_type": "code",
   "execution_count": 5,
   "id": "ac316070-7786-4bc9-8075-a88391095d06",
   "metadata": {},
   "outputs": [],
   "source": [
    "#Q6 Use while loop to print 3 different pattern"
   ]
  },
  {
   "cell_type": "code",
   "execution_count": 11,
   "id": "a763fd63-05e1-4eda-96eb-00186c8a3265",
   "metadata": {},
   "outputs": [
    {
     "name": "stdin",
     "output_type": "stream",
     "text": [
      "Enter a number:  5\n"
     ]
    },
    {
     "name": "stdout",
     "output_type": "stream",
     "text": [
      "* \n",
      "* * \n",
      "* * * \n",
      "* * * * \n",
      "* * * * * \n"
     ]
    }
   ],
   "source": [
    "#1\n",
    "n = int(input(\"Enter a number: \"))\n",
    "i = 1\n",
    "while i <= n:\n",
    "    j = 1\n",
    "    while j <= i:\n",
    "        print(\"*\",end = \" \")\n",
    "        j = j + 1\n",
    "    print()\n",
    "    i = i + 1"
   ]
  },
  {
   "cell_type": "code",
   "execution_count": 10,
   "id": "fa7f98ce-6df8-4cd5-99ca-d2dcb877b943",
   "metadata": {},
   "outputs": [
    {
     "name": "stdin",
     "output_type": "stream",
     "text": [
      "Enter number of rows :  5\n"
     ]
    },
    {
     "name": "stdout",
     "output_type": "stream",
     "text": [
      "* * * * * \n",
      "* * * * \n",
      "* * * \n",
      "* * \n",
      "* \n"
     ]
    }
   ],
   "source": [
    "#2\n",
    "n = int(input('Enter number of rows : '))\n",
    " \n",
    "i = 1\n",
    "while i <= n :\n",
    "    j = n\n",
    "    while j >= i:\n",
    "        print(\"*\", end = \" \")\n",
    "        j -= 1\n",
    "    print()\n",
    "    i += 1"
   ]
  },
  {
   "cell_type": "code",
   "execution_count": 9,
   "id": "2878f55f-ca0e-444b-918e-d1b994c2aa97",
   "metadata": {},
   "outputs": [
    {
     "name": "stdin",
     "output_type": "stream",
     "text": [
      "Enter the number of rows:  5\n"
     ]
    },
    {
     "name": "stdout",
     "output_type": "stream",
     "text": [
      "    * \n",
      "   * * \n",
      "  * * * \n",
      " * * * * \n",
      "* * * * * \n"
     ]
    }
   ],
   "source": [
    "#3\n",
    "n = int(input('Enter the number of rows: '))\n",
    "i = 1\n",
    "while i<=n:\n",
    "    print(\" \"*(n-i) + \"* \" * i)\n",
    "    i+=1 "
   ]
  },
  {
   "cell_type": "code",
   "execution_count": 8,
   "id": "26991be9-10b8-4562-b48d-a3eec9fc2512",
   "metadata": {},
   "outputs": [
    {
     "name": "stdout",
     "output_type": "stream",
     "text": [
      "10\n",
      "9\n",
      "8\n",
      "7\n",
      "6\n",
      "5\n",
      "4\n",
      "3\n",
      "2\n",
      "1\n"
     ]
    }
   ],
   "source": [
    "#Reverse a while loop to display numbers from 10 to 1\n",
    "n = 10 \n",
    "while n >= 1:\n",
    "    print(n)\n",
    "    n -= 1"
   ]
  },
  {
   "cell_type": "code",
   "execution_count": null,
   "id": "787e5d70-7765-4860-a1a1-61b381b34f15",
   "metadata": {},
   "outputs": [],
   "source": []
  }
 ],
 "metadata": {
  "kernelspec": {
   "display_name": "Python 3 (ipykernel)",
   "language": "python",
   "name": "python3"
  },
  "language_info": {
   "codemirror_mode": {
    "name": "ipython",
    "version": 3
   },
   "file_extension": ".py",
   "mimetype": "text/x-python",
   "name": "python",
   "nbconvert_exporter": "python",
   "pygments_lexer": "ipython3",
   "version": "3.10.8"
  }
 },
 "nbformat": 4,
 "nbformat_minor": 5
}
