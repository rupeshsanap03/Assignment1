{
 "cells": [
  {
   "cell_type": "code",
   "execution_count": null,
   "id": "ac63aa81-3e72-45fa-ae63-af7974655e47",
   "metadata": {},
   "outputs": [],
   "source": [
    "\"\"\"Q1. You are writing code for a company. The requirement of the company is that you create a python \n",
    "function that will check whether the password entered by the user is correct or not. The function should \n",
    "take the password as input and return the string “Valid Password” if the entered password follows the \n",
    "below-given password guidelines else it should return “Invalid Password”.\n",
    "\n",
    "\n",
    "Note: 1. The Password should contain at least two uppercase letters and at least two lowercase letters.\n",
    "\n",
    "2. The Password should contain at least a number and three special characters.\n",
    "\n",
    "3. The length of the password should be 10 characters long.\"\"\""
   ]
  },
  {
   "cell_type": "code",
   "execution_count": 20,
   "id": "ab2898e0-6e7b-41e8-8645-be202b511f49",
   "metadata": {},
   "outputs": [],
   "source": [
    "import re\n",
    "#password = \"RUpesh@@@1\"\n",
    "def checkIsValidPassword(password):\n",
    "    if len(password) != 10:\n",
    "        print(\"Invalid Password\")\n",
    "    n = re.findall(r'[a-z]', password)\n",
    "    l = len(n)\n",
    "    if l < 2:\n",
    "        print(\"Invalid Password\")\n",
    "    n1 = re.findall(r'[A-Z]', password)\n",
    "    l1 = len(n1)\n",
    "    if l1 < 2:\n",
    "        print(\"Invalid password\")\n",
    "    n2 = re.findall(r'[!@#$%^&*(),.?\":{}|<>]', password)\n",
    "    l2 = len(n2)\n",
    "    if l2 < 3:\n",
    "        print(\"Invalid Password\")\n",
    "    count = 0\n",
    "    for i in password:\n",
    "        if i.isdigit() == True:\n",
    "            count = count + 1\n",
    "    if count < 1 :\n",
    "        print(\"Invalid Password\")\n",
    "    return \"valid Password\""
   ]
  },
  {
   "cell_type": "code",
   "execution_count": 22,
   "id": "c8d708f1-d928-48a3-b1f4-752ced7f7e50",
   "metadata": {},
   "outputs": [
    {
     "data": {
      "text/plain": [
       "'valid Password'"
      ]
     },
     "execution_count": 22,
     "metadata": {},
     "output_type": "execute_result"
    }
   ],
   "source": [
    "checkIsValidPassword(\"RUpesh@@@1\")"
   ]
  },
  {
   "cell_type": "code",
   "execution_count": 23,
   "id": "e4917163-4765-425e-85cf-8d606e9df77e",
   "metadata": {},
   "outputs": [
    {
     "name": "stdout",
     "output_type": "stream",
     "text": [
      "['cherry']\n"
     ]
    }
   ],
   "source": [
    "\"\"\"Q2. Solve the below-given questions using at least one of the following: \n",
    "\n",
    "1. Lambda functioJ\n",
    "2. Filter functioJ\n",
    "3. Zap functioJ\n",
    "4. List ComprehensioI\n",
    "Q2 1 Check if the string starts with a particular letter\"\"\"\n",
    "string_list = ['apple', 'banana', 'cherry', 'date', 'elderberry']\n",
    "\n",
    "letter = 'c'\n",
    "result = list(filter(lambda x: x[0] == letter, string_list))\n",
    "print(result)"
   ]
  },
  {
   "cell_type": "code",
   "execution_count": 26,
   "id": "3649de4c-fc88-4495-8e8b-8c4bcd6f4bbb",
   "metadata": {},
   "outputs": [
    {
     "name": "stdout",
     "output_type": "stream",
     "text": [
      "['123', '456', '789']\n"
     ]
    }
   ],
   "source": [
    "#Q2 2 Check if the string is numeric\n",
    "string_list = ['123', '456', 'abc', 'def', '789']\n",
    "\n",
    "result = list(filter(lambda x: x.isdigit(), string_list))\n",
    "print(result)"
   ]
  },
  {
   "cell_type": "code",
   "execution_count": 27,
   "id": "dc825606-011b-4ed4-9ff3-45ce6f02180a",
   "metadata": {},
   "outputs": [
    {
     "name": "stdout",
     "output_type": "stream",
     "text": [
      "[('orange', 80), ('mango', 99), ('grapes', 1000)]\n"
     ]
    }
   ],
   "source": [
    "#Q2 3  Sort a list of tuples having fruit names and their quantity. [(\"mango\",99),(\"orange\",80),(\"grapes\", 1000)]\n",
    "fruit_list = [(\"mango\", 99), (\"orange\", 80), (\"grapes\", 1000)]\n",
    "\n",
    "result = sorted(fruit_list, key=lambda x: x[1])\n",
    "print(result)"
   ]
  },
  {
   "cell_type": "code",
   "execution_count": 36,
   "id": "3fcefdee-5cbc-4148-87fa-bfe3264d2607",
   "metadata": {},
   "outputs": [
    {
     "name": "stdout",
     "output_type": "stream",
     "text": [
      "[1, 4, 9, 16, 25, 36, 49, 64, 81, 100]\n"
     ]
    }
   ],
   "source": [
    "#Q2 4  Find the squares of numbers from 1 to 10\n",
    "l = [i for i in range(1,11)]\n",
    "square = [x*x for x in l]\n",
    "print(square)"
   ]
  },
  {
   "cell_type": "code",
   "execution_count": 39,
   "id": "9280ae59-f579-4bdf-8149-7c7cb9fc4854",
   "metadata": {},
   "outputs": [
    {
     "name": "stdout",
     "output_type": "stream",
     "text": [
      "[1.0, 1.2599210498948732, 1.4422495703074083, 1.5874010519681994, 1.7099759466766968, 1.8171205928321397, 1.912931182772389, 2.0, 2.080083823051904, 2.154434690031884]\n"
     ]
    }
   ],
   "source": [
    "#Q2 5  Find the cube root of numbers from 1 to 10\n",
    "l = [i for i in range(1,11)]\n",
    "cube_root = [x**(1/3) for x in l]\n",
    "print(cube_root)"
   ]
  },
  {
   "cell_type": "code",
   "execution_count": 43,
   "id": "88901fa2-b839-4738-86b2-52052db17237",
   "metadata": {},
   "outputs": [
    {
     "name": "stdin",
     "output_type": "stream",
     "text": [
      "Enter a number:  3\n"
     ]
    },
    {
     "name": "stdout",
     "output_type": "stream",
     "text": [
      "False\n"
     ]
    }
   ],
   "source": [
    "#Q2 6 Check if given no is even\n",
    "n = int(input(\"Enter a number: \"))\n",
    "check_even = lambda x : x%2==0\n",
    "result = check_even(n)\n",
    "print(result)"
   ]
  },
  {
   "cell_type": "code",
   "execution_count": 45,
   "id": "6394251a-8dae-490a-bc4a-89989cb129e8",
   "metadata": {},
   "outputs": [
    {
     "name": "stdout",
     "output_type": "stream",
     "text": [
      "[1, 3, 5, 7, 9]\n"
     ]
    }
   ],
   "source": [
    "#Q2 7  Filter odd numbers from the given list.\n",
    "\n",
    "l = [1,2,3,4,5,6,7,8,9,10]\n",
    "odd_numbers = list(filter(lambda x : x%2 != 0, l))\n",
    "print(odd_numbers)"
   ]
  },
  {
   "cell_type": "code",
   "execution_count": 47,
   "id": "b95c061c-12bb-4170-a186-ef9d3a4021fb",
   "metadata": {},
   "outputs": [
    {
     "name": "stdout",
     "output_type": "stream",
     "text": [
      "Positive Integers:  [1, 2, 3, 4, 5, 6]\n",
      "Negative Integers:  [-1, -2, -3, -4, -5]\n"
     ]
    }
   ],
   "source": [
    "# Q2 8 Sort a list of integers into positive and negative integers lists.\n",
    "\n",
    "l = [1,2,3,4,5,6,-1,-2,-3,-4,-5,0]\n",
    "positive_integers = [num for num in l if num > 0]\n",
    "negative_integers = [num for num in l if num < 0]\n",
    "\n",
    "print(\"Positive Integers: \", positive_integers)\n",
    "print(\"Negative Integers: \", negative_integers)"
   ]
  },
  {
   "cell_type": "code",
   "execution_count": null,
   "id": "22283b9d-4471-4499-b375-161f56b8fbbf",
   "metadata": {},
   "outputs": [],
   "source": []
  }
 ],
 "metadata": {
  "kernelspec": {
   "display_name": "Python 3 (ipykernel)",
   "language": "python",
   "name": "python3"
  },
  "language_info": {
   "codemirror_mode": {
    "name": "ipython",
    "version": 3
   },
   "file_extension": ".py",
   "mimetype": "text/x-python",
   "name": "python",
   "nbconvert_exporter": "python",
   "pygments_lexer": "ipython3",
   "version": "3.10.8"
  }
 },
 "nbformat": 4,
 "nbformat_minor": 5
}
