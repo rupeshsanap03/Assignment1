{
 "cells": [
  {
   "cell_type": "code",
   "execution_count": null,
   "id": "b4f071c7-b5e1-446a-a109-3b94023f07fa",
   "metadata": {},
   "outputs": [],
   "source": [
    "#Q1 Explain when to use for and while loop\n",
    "\"\"\"\n",
    "For Loop - Number of iterations already known.\n",
    "\n",
    "While loop - No prior information on the number of iterations.\n",
    "\"\"\"\n",
    "#for loop\n",
    "a = [1,2,3,4]\n",
    "for i in a:\n",
    "    print(\"Rupesh\")\n",
    "#here we know we have to print Rupesh till length of list \n",
    "\n",
    "#while loop\n",
    "i = 1  # Initialization\n",
    "while i < 6:  # Condition\n",
    "    print(i)\n",
    "    i += 1"
   ]
  },
  {
   "cell_type": "code",
   "execution_count": 6,
   "id": "5ff7a189-240e-409a-996b-2de9b7a2dbb1",
   "metadata": {},
   "outputs": [
    {
     "name": "stdout",
     "output_type": "stream",
     "text": [
      "Sum is :  55 \n",
      "Multiplication is:  3628800\n"
     ]
    }
   ],
   "source": [
    "#Q2 rite a python program to print the sum and product of the \n",
    "#   first 10 natural numbers using for and while loop.\n",
    "\n",
    "#Answer using WHILE loop \n",
    "\n",
    "#Natural numbers means number 1 to infinity\n",
    "\n",
    "i = 1\n",
    "sum = 0\n",
    "multi = 1\n",
    "while i <= 10:\n",
    "    sum = sum + i\n",
    "    multi = multi * i\n",
    "    i += 1\n",
    "print(\"Sum is : \",sum,\"\\nMultiplication is: \",multi)\n",
    "    "
   ]
  },
  {
   "cell_type": "code",
   "execution_count": 8,
   "id": "a02fa082-4053-4174-acf3-9ba8e0bbc763",
   "metadata": {},
   "outputs": [
    {
     "name": "stdout",
     "output_type": "stream",
     "text": [
      "Sum is :  55 \n",
      "Multiplication is:  3628800\n"
     ]
    }
   ],
   "source": [
    "#Answer using FOR loop\n",
    "fsum = 0\n",
    "fmulti = 1\n",
    "for i in range(1,11):\n",
    "    fsum = fsum + i\n",
    "    fmulti = fmulti * i\n",
    "print(\"Sum is : \",fsum,\"\\nMultiplication is: \",fmulti)"
   ]
  },
  {
   "cell_type": "code",
   "execution_count": 1,
   "id": "b296e0f4-9c73-4c8e-ae0a-e835296fb84a",
   "metadata": {},
   "outputs": [
    {
     "name": "stdin",
     "output_type": "stream",
     "text": [
      "Enter units consumed in a month:  310\n"
     ]
    },
    {
     "name": "stdout",
     "output_type": "stream",
     "text": [
      "bill for month per user in Rs:  2250.0\n"
     ]
    }
   ],
   "source": [
    "#Q3 Compute electricity bill for a household\n",
    "\"\"\"\n",
    "Given components are \n",
    "first 100 units 4.5 Rs/unit\n",
    "next 100 units 6 Rs/unit\n",
    "next 100 units 10 Rs/unit\n",
    "after 300 units 20 Rs/unit\n",
    "\"\"\"\n",
    "units = float(input(\"Enter units consumed in a month: \"))\n",
    "if units <= 100:\n",
    "    bill = units * 4.5\n",
    "elif units > 100 and units <=200:\n",
    "    bill = (100 * 4.5)+((units - 100)*6)\n",
    "elif units >200 and units <=300:\n",
    "    bill = (100 * 4.5)+(100*6)+((units - 200)*10)\n",
    "else:\n",
    "    bill = (100 * 4.5)+(100*6)+(100*10)+((units - 300)*20)\n",
    "print(\"bill for month per user in Rs: \",bill)"
   ]
  },
  {
   "cell_type": "code",
   "execution_count": 7,
   "id": "192463cd-2e3f-41d2-9fe6-3e4837dd58e7",
   "metadata": {},
   "outputs": [
    {
     "name": "stdout",
     "output_type": "stream",
     "text": [
      "[2, 4, 6, 8, 10, 12, 14, 16, 18, 20, 22, 24, 26, 28, 30, 32, 34, 36, 38, 40, 42, 44, 46, 48, 50, 52, 54, 56, 58, 60, 62, 64, 66, 68, 70, 72, 74, 76, 78, 80, 82, 84, 86, 88, 90, 92, 94, 96, 98, 100]\n"
     ]
    }
   ],
   "source": [
    "\"\"\"Q4 Create list of 1 to 100 numbers use for and while loop to calculate cube of each \n",
    "      if cube of is divisible by 4 or 5 then append thet number in a new list\"\"\"\n",
    "#for loop\n",
    "l1 = list(range(1,101))\n",
    "l2 = []\n",
    "for i in l1:\n",
    "    if (i**3 % 4 == 0) or (i**3 % 4 == 0):\n",
    "        l2.append(i)\n",
    "print(l2)"
   ]
  },
  {
   "cell_type": "code",
   "execution_count": 3,
   "id": "19427c3a-8354-4a0a-808a-e667821da4b3",
   "metadata": {},
   "outputs": [
    {
     "name": "stdout",
     "output_type": "stream",
     "text": [
      "[2, 4, 5, 6, 8, 10, 12, 14, 15, 16, 18, 20, 22, 24, 25, 26, 28, 30, 32, 34, 35, 36, 38, 40, 42, 44, 45, 46, 48, 50, 52, 54, 55, 56, 58, 60, 62, 64, 65, 66, 68, 70, 72, 74, 75, 76, 78, 80, 82, 84, 85, 86, 88, 90, 92, 94, 95, 96, 98, 100]\n"
     ]
    }
   ],
   "source": [
    "#whiel loop\n",
    "numbers = []\n",
    "i = 1\n",
    "while i <= 100:\n",
    "    cube = i ** 3\n",
    "    if cube % 4 == 0 or cube % 5 == 0:\n",
    "        numbers.append(i)\n",
    "    i += 1\n",
    "\n",
    "print(numbers)"
   ]
  },
  {
   "cell_type": "code",
   "execution_count": 13,
   "id": "3b9c389f-a851-4a82-bcdc-7bfa3950a129",
   "metadata": {},
   "outputs": [
    {
     "name": "stdout",
     "output_type": "stream",
     "text": [
      "Number of vowels: 12\n"
     ]
    }
   ],
   "source": [
    "# Q5 print vowels in given string\n",
    "string = \"I want to become a data scientist\"\n",
    "vowels = \"aeiouAEIOU\"\n",
    "count = 0\n",
    "\n",
    "for char in string:\n",
    "    if char in vowels:\n",
    "        count += 1\n",
    "\n",
    "print(\"Number of vowels:\", count)"
   ]
  },
  {
   "cell_type": "code",
   "execution_count": null,
   "id": "8e7c8cfb-2ba4-4724-9e86-3a55dfbbe81f",
   "metadata": {},
   "outputs": [],
   "source": []
  }
 ],
 "metadata": {
  "kernelspec": {
   "display_name": "Python 3 (ipykernel)",
   "language": "python",
   "name": "python3"
  },
  "language_info": {
   "codemirror_mode": {
    "name": "ipython",
    "version": 3
   },
   "file_extension": ".py",
   "mimetype": "text/x-python",
   "name": "python",
   "nbconvert_exporter": "python",
   "pygments_lexer": "ipython3",
   "version": "3.10.8"
  }
 },
 "nbformat": 4,
 "nbformat_minor": 5
}
