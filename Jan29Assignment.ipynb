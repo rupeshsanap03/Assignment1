{
 "cells": [
  {
   "cell_type": "code",
   "execution_count": null,
   "id": "82f50cef-eabe-4597-8a61-8c2fc45a638b",
   "metadata": {},
   "outputs": [],
   "source": [
    "#Q1 Ans : Guido van Rossum"
   ]
  },
  {
   "cell_type": "code",
   "execution_count": 1,
   "id": "042e3d5e-092f-4328-a523-f94242b439b2",
   "metadata": {},
   "outputs": [],
   "source": [
    "#Q2 Ans : Object-oriented and programming and structured programmin \n",
    "#         and many of python features support functional and ascept \n",
    "#         oriented programming"
   ]
  },
  {
   "cell_type": "code",
   "execution_count": 2,
   "id": "a4836a3b-9756-4bd2-bb12-48da31fec52a",
   "metadata": {},
   "outputs": [],
   "source": [
    "#Q3 Ans: Yes python is a case sensitive language so while dealing \n",
    "#        with identifiers it is case sensitive"
   ]
  },
  {
   "cell_type": "code",
   "execution_count": 3,
   "id": "392660b6-6d97-4c31-8fec-09d81af6e1b3",
   "metadata": {},
   "outputs": [],
   "source": [
    "#Q4 Ans: .py,.pyi,.pyc,.pyw,.pyz"
   ]
  },
  {
   "cell_type": "code",
   "execution_count": 4,
   "id": "db17bf42-d2f0-4681-ae2e-c4f8720b3032",
   "metadata": {},
   "outputs": [],
   "source": [
    "#Q5 Ans: Yes python code is interpreted"
   ]
  },
  {
   "cell_type": "code",
   "execution_count": 11,
   "id": "27ddf85e-1fcc-458e-bcec-d386b458ba80",
   "metadata": {},
   "outputs": [],
   "source": [
    "#Q6 Ans: A module, a function body and a class definition are few blocks\n",
    "#        of code used to define in python language"
   ]
  },
  {
   "cell_type": "code",
   "execution_count": 6,
   "id": "0272012f-5397-45eb-9dfe-bcf8b09e6c22",
   "metadata": {},
   "outputs": [],
   "source": [
    "#Q7 Ans: # is used to give single line command"
   ]
  },
  {
   "cell_type": "code",
   "execution_count": 10,
   "id": "16f09570-85a1-4e6a-ac57-e586e0784e4d",
   "metadata": {},
   "outputs": [],
   "source": [
    "#Q8 Ans: sys.version is used to check python version"
   ]
  },
  {
   "cell_type": "code",
   "execution_count": 12,
   "id": "b3ccd40a-d3a4-43ff-960e-3b8601060d4e",
   "metadata": {},
   "outputs": [],
   "source": [
    "#Q9 Ans: python supports the creation of anonymous function at runtime\n",
    "#        using a construct is called lambda"
   ]
  },
  {
   "cell_type": "code",
   "execution_count": 13,
   "id": "c5de4ac1-9e69-494c-b7eb-c4766be33d66",
   "metadata": {},
   "outputs": [],
   "source": [
    "#Q10 Ans: pip stands for Python Enhancement Proposal for python."
   ]
  },
  {
   "cell_type": "code",
   "execution_count": 14,
   "id": "1831fbc0-52bf-419d-a8fb-3f7889d156ac",
   "metadata": {},
   "outputs": [],
   "source": [
    "#Q11 Ans: Built in functions in python are input(),\n",
    "#         int(),round(),bool(),bytearray()"
   ]
  },
  {
   "cell_type": "code",
   "execution_count": 15,
   "id": "d81a579a-242f-4608-beaf-6a8252891aa1",
   "metadata": {},
   "outputs": [],
   "source": [
    "#Q12 Ans: An identifiers can have 79 characters maximum in python\n"
   ]
  },
  {
   "cell_type": "code",
   "execution_count": 19,
   "id": "bb76d01c-5208-4776-8c08-2ea0e792c767",
   "metadata": {},
   "outputs": [],
   "source": [
    "#13 Ans: Large developer community \n",
    "#        Extensive Libraries\n",
    "#        Write less do more \n",
    "#        portability \n",
    "#        wide range of use cases\n",
    "#        these are some advantages of using python and also python used in \n",
    "#        data science \n",
    "#        Scientific and mathematical computing \n",
    "#        wed development \n",
    "#        and many more will be an added advantages..\n"
   ]
  },
  {
   "cell_type": "code",
   "execution_count": 20,
   "id": "b182afe7-ae36-42d4-afd4-d614f58081de",
   "metadata": {},
   "outputs": [],
   "source": [
    "# Q14 Ans: Memory management in python involves a private heap containing all \n",
    "#          Pyhthon objects and data structures."
   ]
  },
  {
   "cell_type": "code",
   "execution_count": 21,
   "id": "2bde818f-b280-45a0-8bb4-70ba75db6e2a",
   "metadata": {},
   "outputs": [],
   "source": [
    "#Q15 Ans: go to www.python.org and install latest version of pyhon\n",
    "#         for environment variable copy bin path of python file \n",
    "#         Right click on my computer -- properties -- advansed system setting--\n",
    "#         environment varibale -- system variable -- search path -- double click on path\n",
    "#         click new -- paste the path -- click ok --ok -- ok and we are done with\n",
    "#         environment variables"
   ]
  },
  {
   "cell_type": "code",
   "execution_count": null,
   "id": "a0033ce1-2304-4841-ae2e-8710312e5d00",
   "metadata": {},
   "outputs": [],
   "source": [
    "#Q16 Ans: Yes, indentation is very important for python \n"
   ]
  }
 ],
 "metadata": {
  "kernelspec": {
   "display_name": "Python 3 (ipykernel)",
   "language": "python",
   "name": "python3"
  },
  "language_info": {
   "codemirror_mode": {
    "name": "ipython",
    "version": 3
   },
   "file_extension": ".py",
   "mimetype": "text/x-python",
   "name": "python",
   "nbconvert_exporter": "python",
   "pygments_lexer": "ipython3",
   "version": "3.10.8"
  }
 },
 "nbformat": 4,
 "nbformat_minor": 5
}
