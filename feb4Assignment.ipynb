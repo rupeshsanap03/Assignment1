{
 "cells": [
  {
   "cell_type": "code",
   "execution_count": 1,
   "id": "99df99c5-673e-489b-8e6d-9d8df7b5daf8",
   "metadata": {},
   "outputs": [
    {
     "name": "stdout",
     "output_type": "stream",
     "text": [
      "[('Virat Kohli', 24936), ('Jack Kallis', 25534), ('Ricky Ponting', 27483), ('Sachin Tendulkar', 34357)]\n"
     ]
    }
   ],
   "source": [
    "#Q1 Create a python program to sort the given list of tuples based on \n",
    "#   integer value using a lambda function. \n",
    "\n",
    "\n",
    "l = [('Sachin Tendulkar', 34357), ('Ricky Ponting', 27483), ('Jack Kallis', 25534), ('Virat Kohli', 24936)]\n",
    "sorted_players = sorted(l, key=lambda x: x[1])\n",
    "\n",
    "print(sorted_players)"
   ]
  },
  {
   "cell_type": "code",
   "execution_count": 8,
   "id": "04711abb-b69e-4bc1-806f-c0f6cb1bbfc1",
   "metadata": {},
   "outputs": [
    {
     "name": "stdout",
     "output_type": "stream",
     "text": [
      "[1, 4, 9, 16, 25, 36, 49, 64, 81, 100]\n"
     ]
    }
   ],
   "source": [
    "#Q2. Write a Python Program to find the squares of all the numbers in the \n",
    "#    given list of integers using lambda and map functions.\n",
    "l = [1, 2, 3, 4, 5, 6, 7, 8, 9, 10]\n",
    "l2 = list(map(lambda x : x**2,l))\n",
    "print(l2)"
   ]
  },
  {
   "cell_type": "code",
   "execution_count": 11,
   "id": "3506ae32-e3b8-4364-baea-9e5ab4ec04b5",
   "metadata": {},
   "outputs": [
    {
     "name": "stdout",
     "output_type": "stream",
     "text": [
      "('1', '2', '3', '4', '5', '6', '7', '8', '9', '10')\n"
     ]
    }
   ],
   "source": [
    "#Q3. Write a python program to convert the given list of integers into a \n",
    "#    tuple of strings. Use map and lambda functions\n",
    "l = [1, 2, 3, 4, 5, 6, 7, 8, 9, 10]\n",
    "l2 = tuple(map(lambda x: str(x),l))\n",
    "print(l2)"
   ]
  },
  {
   "cell_type": "code",
   "execution_count": 18,
   "id": "7f006539-2dc6-4827-bfb7-5a2fc216950b",
   "metadata": {},
   "outputs": [
    {
     "name": "stdout",
     "output_type": "stream",
     "text": [
      "15511210043330985984000000\n"
     ]
    }
   ],
   "source": [
    "#Q4 product of list of numbers 1 to 25 use reduce funtion\n",
    "from functools import reduce\n",
    "l = [i for i in range(1,26)]\n",
    "product = reduce(lambda x, y: x*y, l)\n",
    "print(product)"
   ]
  },
  {
   "cell_type": "code",
   "execution_count": 22,
   "id": "e8583173-09ce-4208-81c8-4390cd120774",
   "metadata": {},
   "outputs": [
    {
     "name": "stdout",
     "output_type": "stream",
     "text": [
      "[2, 3, 6, 9, 27, 60, 90, 120, 46]\n"
     ]
    }
   ],
   "source": [
    "#Q5 filter numbers divisible by 2 and 3 \n",
    "l = [2,3,6,9,27,60,90,120,55,46]\n",
    "l1 = list(filter(lambda x:x%2==0 or x%3==0 , l ))\n",
    "print(l1)"
   ]
  },
  {
   "cell_type": "code",
   "execution_count": 23,
   "id": "a95f163c-0357-472e-82a8-5073e73b5973",
   "metadata": {},
   "outputs": [],
   "source": [
    "#Q6 to find plindrome in given list using lambda and filter\n",
    "\n",
    "l = ['python','php','aba','radar','level']\n",
    "l1 = list(filter(lambda x: x == x[::-1],l))\n"
   ]
  },
  {
   "cell_type": "code",
   "execution_count": null,
   "id": "802b4b41-2f05-4372-a405-05c8e3cd9bee",
   "metadata": {},
   "outputs": [],
   "source": []
  }
 ],
 "metadata": {
  "kernelspec": {
   "display_name": "Python 3 (ipykernel)",
   "language": "python",
   "name": "python3"
  },
  "language_info": {
   "codemirror_mode": {
    "name": "ipython",
    "version": 3
   },
   "file_extension": ".py",
   "mimetype": "text/x-python",
   "name": "python",
   "nbconvert_exporter": "python",
   "pygments_lexer": "ipython3",
   "version": "3.10.8"
  }
 },
 "nbformat": 4,
 "nbformat_minor": 5
}
